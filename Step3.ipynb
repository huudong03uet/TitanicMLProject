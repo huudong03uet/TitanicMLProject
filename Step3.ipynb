{
 "cells": [
  {
   "cell_type": "markdown",
   "source": [
    "# Bước 3: Tiền xử lý dữ liệu.\n",
    "\n",
    "## Cần xử lý dữ liệu để mô hình có thể học được (hoặc học có hiệu quả hơn)\n",
    "### - Xử lý các giá trị bị thiếu\n",
    "### - Mã hoá các dữ liệu danh mục\n",
    "### - Tách dữ liệu thành training set và test set\n",
    "### - Feature Scaling (tiêu chuẩn hoá/tính năng) (tránh giá trị của 1 cột quá lệch với cột khác, vd: mức lương với tuổi)"
   ],
   "metadata": {
    "collapsed": false
   }
  },
  {
   "cell_type": "code",
   "execution_count": 30,
   "outputs": [
    {
     "name": "stdout",
     "output_type": "stream",
     "text": [
      "<class 'pandas.core.frame.DataFrame'>\n",
      "Int64Index: 891 entries, 1 to 891\n",
      "Data columns (total 11 columns):\n",
      " #   Column    Non-Null Count  Dtype   \n",
      "---  ------    --------------  -----   \n",
      " 0   Pclass    891 non-null    category\n",
      " 1   Name      891 non-null    object  \n",
      " 2   Sex       891 non-null    category\n",
      " 3   Age       714 non-null    float64 \n",
      " 4   SibSp     891 non-null    category\n",
      " 5   Parch     891 non-null    category\n",
      " 6   Ticket    891 non-null    object  \n",
      " 7   Fare      891 non-null    float64 \n",
      " 8   Cabin     204 non-null    object  \n",
      " 9   Embarked  889 non-null    category\n",
      " 10  Survived  891 non-null    category\n",
      "dtypes: category(6), float64(2), object(3)\n",
      "memory usage: 48.2+ KB\n"
     ]
    }
   ],
   "source": [
    "import pandas as pd\n",
    "import numpy as np\n",
    "import seaborn as sns\n",
    "import matplotlib.pyplot as plt\n",
    "\n",
    "# Tương tự như step 1\n",
    "train_df = pd.read_csv(\"train.csv\", index_col=\"PassengerId\")\n",
    "\n",
    "features = [\"Pclass\", \"Sex\", \"SibSp\", \"Parch\", \"Embarked\", \"Survived\"]\n",
    "\n",
    "\n",
    "def convert_cat(df, features):\n",
    "    for feature in features:\n",
    "        df[feature] = df[feature].astype(\"category\")\n",
    "\n",
    "\n",
    "convert_cat(train_df, features)\n",
    "\n",
    "train_df.info()"
   ],
   "metadata": {
    "collapsed": false
   }
  },
  {
   "cell_type": "markdown",
   "source": [
    "### Missing data replacement\n",
    "\n",
    "- Kiểm tra độ mất mát của dữ liệu"
   ],
   "metadata": {
    "collapsed": false
   }
  },
  {
   "cell_type": "code",
   "execution_count": 31,
   "outputs": [
    {
     "data": {
      "text/plain": "<Figure size 800x500 with 2 Axes>",
      "image/png": "[encoded data removed]"
     },
     "metadata": {},
     "output_type": "display_data"
    }
   ],
   "source": [
    "fig, ax = plt.subplots(figsize=(8, 5))\n",
    "sns.heatmap(train_df.isna(), cmap=\"Blues\", yticklabels=False);"
   ],
   "metadata": {
    "collapsed": false
   }
  },
  {
   "cell_type": "markdown",
   "source": [
    "#### Ta thấy Age, Cabin, Embarked có sự mất mát dữ liệu"
   ],
   "metadata": {
    "collapsed": false
   }
  },
  {
   "cell_type": "code",
   "execution_count": 32,
   "outputs": [],
   "source": [
    "from sklearn.impute import SimpleImputer"
   ],
   "metadata": {
    "collapsed": false
   }
  },
  {
   "cell_type": "code",
   "execution_count": 33,
   "outputs": [],
   "source": [
    "# thay thế bằng giá trị mean\n",
    "imputer = SimpleImputer(missing_values=np.nan, strategy=\"mean\")"
   ],
   "metadata": {
    "collapsed": false
   }
  },
  {
   "cell_type": "code",
   "execution_count": 34,
   "outputs": [
    {
     "data": {
      "text/plain": "array([[3, 'Braund, Mr. Owen Harris', 'male', ..., 7.25, nan, 'S'],\n       [1, 'Cumings, Mrs. John Bradley (Florence Briggs Thayer)',\n        'female', ..., 71.2833, 'C85', 'C'],\n       [3, 'Heikkinen, Miss. Laina', 'female', ..., 7.925, nan, 'S'],\n       ...,\n       [3, 'Johnston, Miss. Catherine Helen \"Carrie\"', 'female', ...,\n        23.45, nan, 'S'],\n       [1, 'Behr, Mr. Karl Howell', 'male', ..., 30.0, 'C148', 'C'],\n       [3, 'Dooley, Mr. Patrick', 'male', ..., 7.75, nan, 'Q']],\n      dtype=object)"
     },
     "execution_count": 34,
     "metadata": {},
     "output_type": "execute_result"
    }
   ],
   "source": [
    "X = train_df.iloc[:, :-1].values\n",
    "X\n",
    "# lấy dữ liệu cột Age"
   ],
   "metadata": {
    "collapsed": false
   }
  },
  {
   "cell_type": "code",
   "execution_count": 35,
   "outputs": [],
   "source": [
    "imputer = SimpleImputer(missing_values=np.nan, strategy=\"mean\")\n",
    "imputer.fit(X[:, 3:4])\n",
    "X[:, 3:4] = imputer.transform(X[:, 3:4])"
   ],
   "metadata": {
    "collapsed": false
   }
  },
  {
   "cell_type": "code",
   "execution_count": 36,
   "outputs": [
    {
     "data": {
      "text/plain": "array([[3, 'Braund, Mr. Owen Harris', 'male', ..., 7.25, nan, 'S'],\n       [1, 'Cumings, Mrs. John Bradley (Florence Briggs Thayer)',\n        'female', ..., 71.2833, 'C85', 'C'],\n       [3, 'Heikkinen, Miss. Laina', 'female', ..., 7.925, nan, 'S'],\n       ...,\n       [3, 'Johnston, Miss. Catherine Helen \"Carrie\"', 'female', ...,\n        23.45, nan, 'S'],\n       [1, 'Behr, Mr. Karl Howell', 'male', ..., 30.0, 'C148', 'C'],\n       [3, 'Dooley, Mr. Patrick', 'male', ..., 7.75, nan, 'Q']],\n      dtype=object)"
     },
     "execution_count": 36,
     "metadata": {},
     "output_type": "execute_result"
    }
   ],
   "source": [
    "X"
   ],
   "metadata": {
    "collapsed": false
   }
  },
  {
   "cell_type": "markdown",
   "source": [
    "### Encode Categorical data\n",
    "- Bởi vì máy không thể đọc được dữ lệu categorical, vì vậy, chúng ta caanf chuyển sang dạng số để đưa vào máy"
   ],
   "metadata": {
    "collapsed": false
   }
  },
  {
   "cell_type": "code",
   "execution_count": 37,
   "outputs": [
    {
     "data": {
      "text/plain": "array([[0.0, 1.0, 3, ..., 7.25, nan, 'S'],\n       [1.0, 0.0, 1, ..., 71.2833, 'C85', 'C'],\n       [1.0, 0.0, 3, ..., 7.925, nan, 'S'],\n       ...,\n       [1.0, 0.0, 3, ..., 23.45, nan, 'S'],\n       [0.0, 1.0, 1, ..., 30.0, 'C148', 'C'],\n       [0.0, 1.0, 3, ..., 7.75, nan, 'Q']], dtype=object)"
     },
     "execution_count": 37,
     "metadata": {},
     "output_type": "execute_result"
    }
   ],
   "source": [
    "from sklearn.compose import ColumnTransformer\n",
    "from sklearn.preprocessing import OneHotEncoder\n",
    "\n",
    "ct = ColumnTransformer(transformers=[('encoder', OneHotEncoder(), [2])], remainder=\"passthrough\")\n",
    "X = ct.fit_transform(X)\n",
    "X"
   ],
   "metadata": {
    "collapsed": false
   }
  },
  {
   "cell_type": "code",
   "execution_count": 38,
   "outputs": [
    {
     "data": {
      "text/plain": "array([[0.0, 0.0, 1.0, ..., 'A/5 21171', 7.25, nan],\n       [1.0, 0.0, 0.0, ..., 'PC 17599', 71.2833, 'C85'],\n       [0.0, 0.0, 1.0, ..., 'STON/O2. 3101282', 7.925, nan],\n       ...,\n       [0.0, 0.0, 1.0, ..., 'W./C. 6607', 23.45, nan],\n       [1.0, 0.0, 0.0, ..., '111369', 30.0, 'C148'],\n       [0.0, 1.0, 0.0, ..., '370376', 7.75, nan]], dtype=object)"
     },
     "execution_count": 38,
     "metadata": {},
     "output_type": "execute_result"
    }
   ],
   "source": [
    "ct = ColumnTransformer(transformers=[('encoder', OneHotEncoder(), [10])], remainder=\"passthrough\")\n",
    "X = ct.fit_transform(X)\n",
    "X"
   ],
   "metadata": {
    "collapsed": false
   }
  },
  {
   "cell_type": "code",
   "execution_count": 38,
   "outputs": [],
   "source": [],
   "metadata": {
    "collapsed": false
   }
  }
 ],
 "metadata": {
  "kernelspec": {
   "display_name": "Python 3",
   "language": "python",
   "name": "python3"
  },
  "language_info": {
   "codemirror_mode": {
    "name": "ipython",
    "version": 2
   },
   "file_extension": ".py",
   "mimetype": "text/x-python",
   "name": "python",
   "nbconvert_exporter": "python",
   "pygments_lexer": "ipython2",
   "version": "2.7.6"
  }
 },
 "nbformat": 4,
 "nbformat_minor": 0
}
